{
 "cells": [
  {
   "cell_type": "markdown",
   "id": "c33b3e8a",
   "metadata": {},
   "source": [
    "## 설정\n",
    "1. 설정/앱 vscode, miniconda3, python을 제거\n",
    "2. 사용자 계정 폴더 .conda .ipython .vscode .miniconda3 폴더와 condarc 파일을 제거\n",
    "3. c:\\Users\\사용자계정\\Appdata\\Roaming\\Code 제거\n",
    "\n",
    "- 기본 설치 진행"
   ]
  },
  {
   "cell_type": "code",
   "execution_count": null,
   "id": "64e13e3f",
   "metadata": {},
   "outputs": [],
   "source": []
  },
  {
   "cell_type": "markdown",
   "id": "1510e8fd",
   "metadata": {},
   "source": []
  }
 ],
 "metadata": {
  "language_info": {
   "name": "python"
  }
 },
 "nbformat": 4,
 "nbformat_minor": 5
}
